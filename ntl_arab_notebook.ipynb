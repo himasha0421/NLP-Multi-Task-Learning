{
 "cells": [
  {
   "cell_type": "markdown",
   "id": "8acb138a-5ac4-4546-8d8e-2599d8ea071c",
   "metadata": {},
   "source": [
    "### Test Run on sample dataset"
   ]
  },
  {
   "cell_type": "code",
   "execution_count": 3,
   "id": "a35378cb-ecf3-4b71-9309-9e770c49be7e",
   "metadata": {
    "collapsed": true,
    "jupyter": {
     "outputs_hidden": true
    },
    "tags": []
   },
   "outputs": [
    {
     "name": "stdout",
     "output_type": "stream",
     "text": [
      "Some weights of the model checkpoint at UBC-NLP/MARBERT were not used when initializing BertModel: ['cls.predictions.transform.LayerNorm.bias', 'cls.seq_relationship.weight', 'cls.seq_relationship.bias', 'cls.predictions.transform.LayerNorm.weight', 'cls.predictions.transform.dense.weight', 'cls.predictions.transform.dense.bias', 'cls.predictions.bias', 'cls.predictions.decoder.weight']\n",
      "- This IS expected if you are initializing BertModel from the checkpoint of a model trained on another task or with another architecture (e.g. initializing a BertForSequenceClassification model from a BertForPreTraining model).\n",
      "- This IS NOT expected if you are initializing BertModel from the checkpoint of a model that you expect to be exactly identical (initializing a BertForSequenceClassification model from a BertForSequenceClassification model).\n",
      "Truncation was not explicitly activated but `max_length` is provided a specific value, please use `truncation=True` to explicitly truncate examples to max length. Defaulting to 'longest_first' truncation strategy. If you encode pairs of sequences (GLUE-style) with the tokenizer you can select this strategy more precisely by providing a specific strategy to `truncation`.\n",
      "Epoch 0\n",
      "====================\n",
      "Training M: 100%|█████████████████████████████| 138/138 [12:14<00:00,  5.32s/it]\n",
      "loss = 1.5524\n",
      " sentiment_score: 0.1348\n",
      " annotator_score: 0.0878\n",
      " directness_score: 0.3705\n",
      " group_score: 0.2091\n",
      " target_score: 0.2207\n",
      "valid M: 100%|██████████████████████████████████| 18/18 [00:23<00:00,  1.29s/it]\n",
      " loss = 1.4680\n",
      " F1 sentiment_score: 0.0802\n",
      " F1 annotator_score: 0.0822\n",
      " F1 directness_score: 0.3714\n",
      " F1 group_score: 0.1634\n",
      " F1 target_score: 0.1784\n",
      "Saving model...\n",
      "Best test results sentiment_score: 0.0802\n",
      "Best test results annotator_score: 0.0822\n",
      "Best test results directness_score: 0.3714\n",
      "Best test results group_score: 0.1634\n",
      "Best test results target_score: 0.1784\n",
      "====================\n",
      "Epoch 1\n",
      "====================\n",
      "Training M:  86%|█████████████████████████    | 119/138 [10:34<01:46,  5.58s/it]^C\n"
     ]
    }
   ],
   "source": [
    "!python3 train.py -bs=32 -lr=3e-6 -ep=20 -pa=3 --model=marbert --task=all --clip --loss-weights 0.3 0.3 0.1 0.2 0.1 --cuda=0"
   ]
  },
  {
   "cell_type": "code",
   "execution_count": 2,
   "id": "e1a5a074-7495-4ecb-9426-6e02b76c79d6",
   "metadata": {},
   "outputs": [
    {
     "name": "stdout",
     "output_type": "stream",
     "text": [
      "Collecting pandas\n",
      "  Downloading pandas-1.4.3-cp39-cp39-manylinux_2_17_x86_64.manylinux2014_x86_64.whl (11.7 MB)\n",
      "\u001b[K     |████████████████████████████████| 11.7 MB 3.4 MB/s eta 0:00:01 | 10.4 MB 3.4 MB/s eta 0:00:01\n",
      "\u001b[?25hRequirement already satisfied: python-dateutil>=2.8.1 in /home/studio-lab-user/.conda/envs/default/lib/python3.9/site-packages (from pandas) (2.8.2)\n",
      "Requirement already satisfied: numpy>=1.18.5 in /home/studio-lab-user/.conda/envs/default/lib/python3.9/site-packages (from pandas) (1.23.0)\n",
      "Collecting pytz>=2020.1\n",
      "  Downloading pytz-2022.1-py2.py3-none-any.whl (503 kB)\n",
      "\u001b[K     |████████████████████████████████| 503 kB 77.2 MB/s eta 0:00:01\n",
      "\u001b[?25hRequirement already satisfied: six>=1.5 in /home/studio-lab-user/.conda/envs/default/lib/python3.9/site-packages (from python-dateutil>=2.8.1->pandas) (1.16.0)\n",
      "Installing collected packages: pytz, pandas\n",
      "Successfully installed pandas-1.4.3 pytz-2022.1\n"
     ]
    }
   ],
   "source": [
    "!pip install pandas\n",
    "!pip install emoji\n",
    "!pip install wordsegment\n",
    "!pip install transformers"
   ]
  },
  {
   "cell_type": "code",
   "execution_count": null,
   "id": "bc792897-3738-4eb0-80eb-a3005d0226a1",
   "metadata": {},
   "outputs": [],
   "source": []
  }
 ],
 "metadata": {
  "kernelspec": {
   "display_name": "default:Python",
   "language": "python",
   "name": "conda-env-default-py"
  },
  "language_info": {
   "codemirror_mode": {
    "name": "ipython",
    "version": 3
   },
   "file_extension": ".py",
   "mimetype": "text/x-python",
   "name": "python",
   "nbconvert_exporter": "python",
   "pygments_lexer": "ipython3",
   "version": "3.9.13"
  }
 },
 "nbformat": 4,
 "nbformat_minor": 5
}
